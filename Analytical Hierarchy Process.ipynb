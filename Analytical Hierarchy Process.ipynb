{
 "cells": [
  {
   "cell_type": "code",
   "execution_count": 1,
   "id": "8abe245b",
   "metadata": {},
   "outputs": [],
   "source": [
    "import ahpy"
   ]
  },
  {
   "cell_type": "markdown",
   "id": "60713ee5",
   "metadata": {},
   "source": [
    "# AHP\n",
    "\n",
    "### AHP is a method used to structure, synthesize and evaluate the elements of a decision problem. It considers the dependence between the elements of the hierachy."
   ]
  },
  {
   "cell_type": "code",
   "execution_count": 2,
   "id": "4ce5fd89",
   "metadata": {},
   "outputs": [],
   "source": [
    "drink_comparisons = {('coffee', 'wine'): 9, ('coffee', 'tea'): 5, ('coffee', 'beer'): 2, ('coffee', 'soda'): 1,\n",
    "                     ('coffee', 'milk'): 1, ('coffee', 'water'): 1 / 2,\n",
    "                     ('wine', 'tea'): 1 / 3, ('wine', 'beer'): 1 / 9, ('wine', 'soda'): 1 / 9,\n",
    "                     ('wine', 'milk'): 1 / 9, ('wine', 'water'): 1 / 9,\n",
    "                     ('tea', 'beer'): 1 / 3, ('tea', 'soda'): 1 / 4, ('tea', 'milk'): 1 / 3,\n",
    "                     ('tea', 'water'): 1 / 9,\n",
    "                     ('beer', 'soda'): 1 / 2, ('beer', 'milk'): 1, ('beer', 'water'): 1 / 3,\n",
    "                     ('soda', 'milk'): 2, ('soda', 'water'): 1 / 2,\n",
    "                     ('milk', 'water'): 1 / 3}"
   ]
  },
  {
   "cell_type": "code",
   "execution_count": 3,
   "id": "f4a265b1",
   "metadata": {},
   "outputs": [],
   "source": [
    "drinks = ahpy.Compare(name = 'Drinks', comparisons = drink_comparisons, precision = 3, random_index = 'saaty')"
   ]
  },
  {
   "cell_type": "code",
   "execution_count": 4,
   "id": "daf385d9",
   "metadata": {},
   "outputs": [
    {
     "name": "stdout",
     "output_type": "stream",
     "text": [
      "{'water': 0.327, 'soda': 0.19, 'coffee': 0.177, 'milk': 0.129, 'beer': 0.116, 'tea': 0.042, 'wine': 0.019}\n"
     ]
    }
   ],
   "source": [
    "print(drinks.target_weights)"
   ]
  },
  {
   "cell_type": "code",
   "execution_count": 5,
   "id": "b89c37f6",
   "metadata": {},
   "outputs": [
    {
     "name": "stdout",
     "output_type": "stream",
     "text": [
      "0.022\n"
     ]
    }
   ],
   "source": [
    "print(drinks.consistency_ratio)"
   ]
  },
  {
   "cell_type": "code",
   "execution_count": 7,
   "id": "dadd6137",
   "metadata": {},
   "outputs": [],
   "source": [
    "experience_comparisons = {('Moll', 'Nell'): 1/4, ('Moll', 'Sue'): 4, ('Nell', 'Sue'): 9}\n",
    "education_comparisons = {('Moll', 'Nell'): 3, ('Moll', 'Sue'): 1/5, ('Nell', 'Sue'): 1/7}\n",
    "charisma_comparisons = {('Moll', 'Nell'): 5, ('Moll', 'Sue'): 9, ('Nell', 'Sue'): 4}\n",
    "age_comparisons = {('Moll', 'Nell'): 1/3, ('Moll', 'Sue'): 5, ('Nell', 'Sue'): 9}"
   ]
  },
  {
   "cell_type": "code",
   "execution_count": 8,
   "id": "91e34f74",
   "metadata": {},
   "outputs": [],
   "source": [
    "criteria_comparisons = {('Experience', 'Education'): 4, ('Experience', 'Charisma'): 3, ('Experience', 'Age'): 7,\n",
    "          ('Education', 'Charisma'): 1/3, ('Education', 'Age'): 3,\n",
    "          ('Charisma', 'Age'): 5}"
   ]
  },
  {
   "cell_type": "code",
   "execution_count": 15,
   "id": "c9d7d465",
   "metadata": {},
   "outputs": [],
   "source": [
    "experience = ahpy.Compare('Experience', experience_comparisons, precision=3, random_index='saaty')\n",
    "education = ahpy.Compare('Education', education_comparisons, precision=3, random_index='saaty')\n",
    "charisma = ahpy.Compare('Charisma', charisma_comparisons, precision=3, random_index='saaty')\n",
    "age = ahpy.Compare('Age', age_comparisons, precision=3, random_index='saaty')\n",
    "criteria = ahpy.Compare('Criteria', criteria_comparisons, precision=3, random_index='saaty')"
   ]
  },
  {
   "cell_type": "code",
   "execution_count": 16,
   "id": "d37231d0",
   "metadata": {},
   "outputs": [],
   "source": [
    "criteria.add_children([experience, education, charisma, age])"
   ]
  },
  {
   "cell_type": "code",
   "execution_count": 17,
   "id": "4332ba1c",
   "metadata": {},
   "outputs": [
    {
     "name": "stdout",
     "output_type": "stream",
     "text": [
      "{'Nell': 0.493, 'Moll': 0.358, 'Sue': 0.15}\n"
     ]
    }
   ],
   "source": [
    "print(criteria.target_weights)"
   ]
  },
  {
   "cell_type": "code",
   "execution_count": 18,
   "id": "eaef7970",
   "metadata": {},
   "outputs": [
    {
     "name": "stdout",
     "output_type": "stream",
     "text": [
      "{'Nell': 0.717, 'Moll': 0.217, 'Sue': 0.066}\n"
     ]
    }
   ],
   "source": [
    "print(experience.local_weights)"
   ]
  },
  {
   "cell_type": "code",
   "execution_count": 19,
   "id": "290ba6f2",
   "metadata": {},
   "outputs": [
    {
     "name": "stdout",
     "output_type": "stream",
     "text": [
      "{'Sue': 0.093, 'Moll': 0.024, 'Nell': 0.01}\n"
     ]
    }
   ],
   "source": [
    "print(education.global_weights)"
   ]
  },
  {
   "cell_type": "code",
   "execution_count": 20,
   "id": "0cad0fdb",
   "metadata": {},
   "outputs": [
    {
     "name": "stdout",
     "output_type": "stream",
     "text": [
      "{'Sue': 0.731, 'Moll': 0.188, 'Nell': 0.081}\n"
     ]
    }
   ],
   "source": [
    "print(education.local_weights)"
   ]
  },
  {
   "cell_type": "code",
   "execution_count": 21,
   "id": "4b34d6d8",
   "metadata": {},
   "outputs": [
    {
     "name": "stdout",
     "output_type": "stream",
     "text": [
      "0.062\n"
     ]
    }
   ],
   "source": [
    "print(education.consistency_ratio)"
   ]
  },
  {
   "cell_type": "code",
   "execution_count": 22,
   "id": "5392569c",
   "metadata": {},
   "outputs": [
    {
     "name": "stdout",
     "output_type": "stream",
     "text": [
      "{\n",
      "    \"name\": \"Criteria\",\n",
      "    \"global_weight\": 1.0,\n",
      "    \"local_weight\": 1.0,\n",
      "    \"target_weights\": {\n",
      "        \"Nell\": 0.493,\n",
      "        \"Moll\": 0.358,\n",
      "        \"Sue\": 0.15\n",
      "    },\n",
      "    \"elements\": {\n",
      "        \"global_weights\": {\n",
      "            \"Experience\": 0.548,\n",
      "            \"Charisma\": 0.27,\n",
      "            \"Education\": 0.127,\n",
      "            \"Age\": 0.056\n",
      "        },\n",
      "        \"local_weights\": {\n",
      "            \"Experience\": 0.548,\n",
      "            \"Charisma\": 0.27,\n",
      "            \"Education\": 0.127,\n",
      "            \"Age\": 0.056\n",
      "        },\n",
      "        \"consistency_ratio\": 0.044\n",
      "    }\n",
      "}\n"
     ]
    }
   ],
   "source": [
    "report = criteria.report(show=True)"
   ]
  },
  {
   "cell_type": "code",
   "execution_count": null,
   "id": "7ed19a8c",
   "metadata": {},
   "outputs": [],
   "source": []
  }
 ],
 "metadata": {
  "kernelspec": {
   "display_name": "Python [conda env:tensorflow] *",
   "language": "python",
   "name": "conda-env-tensorflow-py"
  },
  "language_info": {
   "codemirror_mode": {
    "name": "ipython",
    "version": 3
   },
   "file_extension": ".py",
   "mimetype": "text/x-python",
   "name": "python",
   "nbconvert_exporter": "python",
   "pygments_lexer": "ipython3",
   "version": "3.7.11"
  }
 },
 "nbformat": 4,
 "nbformat_minor": 5
}
